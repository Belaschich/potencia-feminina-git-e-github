{
 "cells": [
  {
   "cell_type": "markdown",
   "metadata": {},
   "source": [
    "### Importando Bibliotecas"
   ]
  },
  {
   "cell_type": "code",
   "execution_count": 1,
   "metadata": {},
   "outputs": [],
   "source": [
    "import sqlite3"
   ]
  },
  {
   "cell_type": "markdown",
   "metadata": {},
   "source": [
    "### Fazendo a conexão"
   ]
  },
  {
   "cell_type": "code",
   "execution_count": 2,
   "metadata": {},
   "outputs": [],
   "source": [
    "conexao = sqlite3.connect('Banco')\n",
    "cursor = conexao.cursor()"
   ]
  },
  {
   "cell_type": "markdown",
   "metadata": {},
   "source": [
    "### 1- Criando a tabela Alunos"
   ]
  },
  {
   "cell_type": "code",
   "execution_count": 61,
   "metadata": {},
   "outputs": [
    {
     "data": {
      "text/plain": [
       "<sqlite3.Cursor at 0x15726294cc0>"
      ]
     },
     "execution_count": 61,
     "metadata": {},
     "output_type": "execute_result"
    }
   ],
   "source": [
    "cursor.execute('CREATE TABLE alunos (Id INT, Nome VARCHAR(100), Idade INT, Curso VARCHAR (100));')"
   ]
  },
  {
   "cell_type": "markdown",
   "metadata": {},
   "source": [
    "### 2-  Inserindo Dados na Tabela"
   ]
  },
  {
   "cell_type": "code",
   "execution_count": 62,
   "metadata": {},
   "outputs": [
    {
     "data": {
      "text/plain": [
       "<sqlite3.Cursor at 0x15726294cc0>"
      ]
     },
     "execution_count": 62,
     "metadata": {},
     "output_type": "execute_result"
    }
   ],
   "source": [
    "cursor.execute('INSERT INTO alunos (Id,Nome,Idade,Curso) VALUES(1,\"Renata\",\"17\",\"Matemática\")')\n",
    "cursor.execute('INSERT INTO alunos (Id,Nome,Idade,Curso) VALUES(2,\"Carlos\",\"18\",\"Engenharia\")')\n",
    "cursor.execute('INSERT INTO alunos (Id,Nome,Idade,Curso) VALUES(3,\"Bruna\",\"20\",\"Logistica\")')\n",
    "cursor.execute('INSERT INTO alunos (Id,Nome,Idade,Curso) VALUES(4,\"Roberto\",\"30\",\"Biologia\")')\n",
    "cursor.execute('INSERT INTO alunos (Id,Nome,Idade,Curso) VALUES(5,\"Uriel\",\"24\",\"Engenharia\")')\n",
    "cursor.execute('INSERT INTO alunos (Id,Nome,Idade,Curso) VALUES(6,\"Juliana\",\"23\",\"Matemática\")')\n",
    "cursor.execute('INSERT INTO alunos (Id,Nome,Idade,Curso) VALUES(7,\"Claudia\",\"25\",\"Logistica\")')\n",
    "cursor.execute('INSERT INTO alunos (Id,Nome,Idade,Curso) VALUES(8,\"Jaqueline\",\"18\",\"Matemática\")')\n",
    "cursor.execute('INSERT INTO alunos (Id,Nome,Idade,Curso) VALUES(9,\"Beatriz\",\"24\",\"Matemática\")')\n",
    "cursor.execute('INSERT INTO alunos (Id,Nome,Idade,Curso) VALUES(10,\"Luciana\",\"20\",\"Engenharia\")')\n",
    "cursor.execute('INSERT INTO alunos (Id,Nome,Idade,Curso) VALUES(11,\"Juliano\",\"23\",\"Logistica\")')\n",
    "cursor.execute('INSERT INTO alunos (Id,Nome,Idade,Curso) VALUES(12,\"Adriel\",\"18\",\"Engenharia\")')\n",
    "cursor.execute('INSERT INTO alunos (Id,Nome,Idade,Curso) VALUES(13,\"Gustavo\",\"19\",\"Matemática\")')\n",
    "cursor.execute('INSERT INTO alunos (Id,Nome,Idade,Curso) VALUES(14,\"Eduardo\",\"18\",\"Logistica\")')\n",
    "cursor.execute('INSERT INTO alunos (Id,Nome,Idade,Curso) VALUES(15,\"Ariel\",\"32\",\"Biologia\")')\n",
    "cursor.execute('INSERT INTO alunos (Id,Nome,Idade,Curso) VALUES(16,\"Marcos\",\"23\",\"Matemática\")')\n",
    "cursor.execute('INSERT INTO alunos (Id,Nome,Idade,Curso) VALUES(17,\"Jean\",\"17\",\"Engenharia\")')\n",
    "cursor.execute('INSERT INTO alunos (Id,Nome,Idade,Curso) VALUES(18,\"Felipe\",\"18\",\"Logistica\")')\n",
    "cursor.execute('INSERT INTO alunos (Id,Nome,Idade,Curso) VALUES(19,\"Raphael\",\"24\",\"Biologia\")')\n",
    "cursor.execute('INSERT INTO alunos (Id,Nome,Idade,Curso) VALUES(20,\"Marcio\",\"20\",\"Engenharia\")')\n"
   ]
  },
  {
   "cell_type": "code",
   "execution_count": 63,
   "metadata": {},
   "outputs": [
    {
     "data": {
      "text/plain": [
       "<function Connection.close()>"
      ]
     },
     "execution_count": 63,
     "metadata": {},
     "output_type": "execute_result"
    }
   ],
   "source": [
    "conexao.commit()\n",
    "conexao.close"
   ]
  },
  {
   "cell_type": "markdown",
   "metadata": {},
   "source": [
    "### 3- Consultando uma Tabela"
   ]
  },
  {
   "cell_type": "markdown",
   "metadata": {},
   "source": [
    "#### A - Selecionar todos os registros da tabela \"alunos\"."
   ]
  },
  {
   "cell_type": "code",
   "execution_count": 64,
   "metadata": {},
   "outputs": [
    {
     "name": "stdout",
     "output_type": "stream",
     "text": [
      "(1, 'Renata', 17, 'Matemática')\n",
      "(2, 'Carlos', 18, 'Engenharia')\n",
      "(3, 'Bruna', 20, 'Logistica')\n",
      "(4, 'Roberto', 30, 'Biologia')\n",
      "(5, 'Uriel', 24, 'Engenharia')\n",
      "(6, 'Juliana', 23, 'Matemática')\n",
      "(7, 'Claudia', 25, 'Logistica')\n",
      "(8, 'Jaqueline', 18, 'Matemática')\n",
      "(9, 'Beatriz', 24, 'Matemática')\n",
      "(10, 'Luciana', 20, 'Engenharia')\n",
      "(11, 'Juliano', 23, 'Logistica')\n",
      "(12, 'Adriel', 18, 'Engenharia')\n",
      "(13, 'Gustavo', 19, 'Matemática')\n",
      "(14, 'Eduardo', 18, 'Logistica')\n",
      "(15, 'Ariel', 32, 'Biologia')\n",
      "(16, 'Marcos', 23, 'Matemática')\n",
      "(17, 'Jean', 17, 'Engenharia')\n",
      "(18, 'Felipe', 18, 'Logistica')\n",
      "(19, 'Raphael', 24, 'Biologia')\n",
      "(20, 'Marcio', 20, 'Engenharia')\n"
     ]
    }
   ],
   "source": [
    "dados = cursor.execute('SELECT * FROM alunos')\n",
    "for alunos  in dados:\n",
    "    print(alunos)"
   ]
  },
  {
   "cell_type": "markdown",
   "metadata": {},
   "source": [
    "#### B - Selecionar o nome e a idade dos alunos com mais de 20 anos."
   ]
  },
  {
   "cell_type": "code",
   "execution_count": 65,
   "metadata": {},
   "outputs": [
    {
     "name": "stdout",
     "output_type": "stream",
     "text": [
      "('Roberto', 30)\n",
      "('Uriel', 24)\n",
      "('Juliana', 23)\n",
      "('Claudia', 25)\n",
      "('Beatriz', 24)\n",
      "('Juliano', 23)\n",
      "('Ariel', 32)\n",
      "('Marcos', 23)\n",
      "('Raphael', 24)\n"
     ]
    }
   ],
   "source": [
    "dados2 = cursor.execute('SELECT Nome, Idade FROM alunos where Idade > 20')\n",
    "for alunos  in dados2:\n",
    "    print(alunos)"
   ]
  },
  {
   "cell_type": "markdown",
   "metadata": {},
   "source": [
    "#### C - Selecionar os alunos do curso de \"Engenharia\" em ordem alfabética.\n"
   ]
  },
  {
   "cell_type": "code",
   "execution_count": 66,
   "metadata": {},
   "outputs": [
    {
     "name": "stdout",
     "output_type": "stream",
     "text": [
      "(12, 'Adriel', 18, 'Engenharia')\n",
      "(2, 'Carlos', 18, 'Engenharia')\n",
      "(17, 'Jean', 17, 'Engenharia')\n",
      "(10, 'Luciana', 20, 'Engenharia')\n",
      "(20, 'Marcio', 20, 'Engenharia')\n",
      "(5, 'Uriel', 24, 'Engenharia')\n"
     ]
    }
   ],
   "source": [
    "dados3 = cursor.execute('SELECT * FROM alunos Where Curso = \"Engenharia\" order by Nome ASC')\n",
    "for alunos  in dados3:\n",
    "    print(alunos)"
   ]
  },
  {
   "cell_type": "markdown",
   "metadata": {},
   "source": [
    "#### D - Contar o número total de alunos na tabela"
   ]
  },
  {
   "cell_type": "code",
   "execution_count": 67,
   "metadata": {},
   "outputs": [
    {
     "name": "stdout",
     "output_type": "stream",
     "text": [
      "(20,)\n"
     ]
    }
   ],
   "source": [
    "dados4 = cursor.execute('SELECT count(*) FROM alunos')\n",
    "for alunos  in dados4:\n",
    "    print(alunos)"
   ]
  },
  {
   "cell_type": "markdown",
   "metadata": {},
   "source": [
    "### 4- Atualização e remoção de dados"
   ]
  },
  {
   "cell_type": "markdown",
   "metadata": {},
   "source": [
    "#### a - Atualize a idade de um aluno específico na tabela.\n"
   ]
  },
  {
   "cell_type": "code",
   "execution_count": 68,
   "metadata": {},
   "outputs": [
    {
     "data": {
      "text/plain": [
       "<sqlite3.Cursor at 0x15726294cc0>"
      ]
     },
     "execution_count": 68,
     "metadata": {},
     "output_type": "execute_result"
    }
   ],
   "source": [
    "cursor.execute('UPDATE alunos SET Idade = 20 Where Id = 17')"
   ]
  },
  {
   "cell_type": "code",
   "execution_count": 69,
   "metadata": {},
   "outputs": [
    {
     "name": "stdout",
     "output_type": "stream",
     "text": [
      "(17, 'Jean', 20, 'Engenharia')\n"
     ]
    }
   ],
   "source": [
    "dados = cursor.execute('SELECT * FROM alunos WHERE Id = 17')\n",
    "for alunos  in dados:\n",
    "    print(alunos)"
   ]
  },
  {
   "cell_type": "markdown",
   "metadata": {},
   "source": [
    "#### b - Remova um aluno pelo seu ID."
   ]
  },
  {
   "cell_type": "code",
   "execution_count": 70,
   "metadata": {},
   "outputs": [
    {
     "data": {
      "text/plain": [
       "<sqlite3.Cursor at 0x15726294cc0>"
      ]
     },
     "execution_count": 70,
     "metadata": {},
     "output_type": "execute_result"
    }
   ],
   "source": [
    "cursor.execute('DELETE FROM alunos WHERE Id = 15')"
   ]
  },
  {
   "cell_type": "code",
   "execution_count": 71,
   "metadata": {},
   "outputs": [
    {
     "name": "stdout",
     "output_type": "stream",
     "text": [
      "(1, 'Renata', 17, 'Matemática')\n",
      "(2, 'Carlos', 18, 'Engenharia')\n",
      "(3, 'Bruna', 20, 'Logistica')\n",
      "(4, 'Roberto', 30, 'Biologia')\n",
      "(5, 'Uriel', 24, 'Engenharia')\n",
      "(6, 'Juliana', 23, 'Matemática')\n",
      "(7, 'Claudia', 25, 'Logistica')\n",
      "(8, 'Jaqueline', 18, 'Matemática')\n",
      "(9, 'Beatriz', 24, 'Matemática')\n",
      "(10, 'Luciana', 20, 'Engenharia')\n",
      "(11, 'Juliano', 23, 'Logistica')\n",
      "(12, 'Adriel', 18, 'Engenharia')\n",
      "(13, 'Gustavo', 19, 'Matemática')\n",
      "(14, 'Eduardo', 18, 'Logistica')\n",
      "(16, 'Marcos', 23, 'Matemática')\n",
      "(17, 'Jean', 20, 'Engenharia')\n",
      "(18, 'Felipe', 18, 'Logistica')\n",
      "(19, 'Raphael', 24, 'Biologia')\n",
      "(20, 'Marcio', 20, 'Engenharia')\n"
     ]
    }
   ],
   "source": [
    "dados = cursor.execute('SELECT * FROM alunos')\n",
    "for alunos  in dados:\n",
    "    print(alunos)"
   ]
  },
  {
   "cell_type": "markdown",
   "metadata": {},
   "source": [
    "### 5- Criando a tabela  e Inserindo Dados na Tabela"
   ]
  },
  {
   "cell_type": "code",
   "execution_count": 72,
   "metadata": {},
   "outputs": [
    {
     "data": {
      "text/plain": [
       "<function Connection.close()>"
      ]
     },
     "execution_count": 72,
     "metadata": {},
     "output_type": "execute_result"
    }
   ],
   "source": [
    "cursor.execute('CREATE TABLE Clientes(id INT, nome VARCHAR(100), idade INT, saldo FLOAT);')\n",
    "\n",
    "cursor.execute('INSERT INTO Clientes(id, nome, idade, saldo) VALUES(1,\"Fabio\",35,20000.00)')\n",
    "cursor.execute('INSERT INTO Clientes(id, nome, idade, saldo) VALUES(2,\"Julia\",38,-5000.00)')\n",
    "cursor.execute('INSERT INTO Clientes(id, nome, idade, saldo) VALUES(3,\"Bruna\",35,1125.80)')\n",
    "cursor.execute('INSERT INTO Clientes(id, nome, idade, saldo) VALUES(4,\"Ricardo\",23,456.25)')\n",
    "cursor.execute('INSERT INTO Clientes(id, nome, idade, saldo) VALUES(5,\"Macella\",42,-200.52)')\n",
    "cursor.execute('INSERT INTO Clientes(id, nome, idade, saldo) VALUES(6,\"Marcus\",56,10652.89)')\n",
    "cursor.execute('INSERT INTO Clientes(id, nome, idade, saldo) VALUES(7,\"João\",45,2548.57)')\n",
    "cursor.execute('INSERT INTO Clientes(id, nome, idade, saldo) VALUES(8,\"Joana\",26,-854.23)')\n",
    "cursor.execute('INSERT INTO Clientes(id, nome, idade, saldo) VALUES(9,\"Fernanda\",35,2164.40)')\n",
    "cursor.execute('INSERT INTO Clientes(id, nome, idade, saldo) VALUES(10,\"Maria\",38,-5445.21)')\n",
    "cursor.execute('INSERT INTO Clientes(id, nome, idade, saldo) VALUES(11,\"Jean\",35,565.87)')\n",
    "cursor.execute('INSERT INTO Clientes(id, nome, idade, saldo) VALUES(12,\"Raphaela\",23,894.45)')\n",
    "cursor.execute('INSERT INTO Clientes(id, nome, idade, saldo) VALUES(13,\"Sophia\",42,-25.00)')\n",
    "cursor.execute('INSERT INTO Clientes(id, nome, idade, saldo) VALUES(14,\"Ezio\",41,542.51)')\n",
    "cursor.execute('INSERT INTO Clientes(id, nome, idade, saldo) VALUES(15,\"Diego\",32,5614.85)')\n",
    "cursor.execute('INSERT INTO Clientes(id, nome, idade, saldo) VALUES(16,\"Dete\",75,-26.80)')\n",
    "\n",
    "conexao.commit()\n",
    "conexao.close"
   ]
  },
  {
   "cell_type": "markdown",
   "metadata": {},
   "source": [
    "### 6- Consultas e Funções Agregadas"
   ]
  },
  {
   "cell_type": "code",
   "execution_count": 73,
   "metadata": {},
   "outputs": [
    {
     "name": "stdout",
     "output_type": "stream",
     "text": [
      "(1, 'Fabio', 35, 20000.0)\n",
      "(2, 'Julia', 38, -5000.0)\n",
      "(3, 'Bruna', 35, 1125.8)\n",
      "(4, 'Ricardo', 23, 456.25)\n",
      "(5, 'Macella', 42, -200.52)\n",
      "(6, 'Marcus', 56, 10652.89)\n",
      "(7, 'João', 45, 2548.57)\n",
      "(8, 'Joana', 26, -854.23)\n",
      "(9, 'Fernanda', 35, 2164.4)\n",
      "(10, 'Maria', 38, -5445.21)\n",
      "(11, 'Jean', 35, 565.87)\n",
      "(12, 'Raphaela', 23, 894.45)\n",
      "(13, 'Sophia', 42, -25.0)\n",
      "(14, 'Ezio', 41, 542.51)\n",
      "(15, 'Diego', 32, 5614.85)\n",
      "(16, 'Dete', 75, -26.8)\n"
     ]
    }
   ],
   "source": [
    "dados = cursor.execute('SELECT * FROM Clientes')\n",
    "for Clientes  in dados:\n",
    "    print(Clientes)"
   ]
  },
  {
   "cell_type": "markdown",
   "metadata": {},
   "source": [
    "#### a - Selecione o nome e a idade dos clientes com idade superior a 30 anos."
   ]
  },
  {
   "cell_type": "code",
   "execution_count": 74,
   "metadata": {},
   "outputs": [
    {
     "name": "stdout",
     "output_type": "stream",
     "text": [
      "('Fabio', 35)\n",
      "('Julia', 38)\n",
      "('Bruna', 35)\n",
      "('Macella', 42)\n",
      "('Marcus', 56)\n",
      "('João', 45)\n",
      "('Fernanda', 35)\n",
      "('Maria', 38)\n",
      "('Jean', 35)\n",
      "('Sophia', 42)\n",
      "('Ezio', 41)\n",
      "('Diego', 32)\n",
      "('Dete', 75)\n"
     ]
    }
   ],
   "source": [
    "dados = cursor.execute('SELECT Nome, Idade FROM Clientes where Idade > 30')\n",
    "for Clientes  in dados:\n",
    "    print(Clientes)"
   ]
  },
  {
   "cell_type": "markdown",
   "metadata": {},
   "source": [
    "#### b - Calcule o saldo médio dos clientes."
   ]
  },
  {
   "cell_type": "code",
   "execution_count": 77,
   "metadata": {},
   "outputs": [
    {
     "name": "stdout",
     "output_type": "stream",
     "text": [
      "(2063.36,)\n"
     ]
    }
   ],
   "source": [
    "dados = cursor.execute('SELECT round(avg(saldo),2) as saldo_medio FROM Clientes')\n",
    "for Clientes  in dados:\n",
    "    print(Clientes)"
   ]
  },
  {
   "cell_type": "markdown",
   "metadata": {},
   "source": [
    "#### c - Encontre o cliente com o saldo máximo."
   ]
  },
  {
   "cell_type": "code",
   "execution_count": 84,
   "metadata": {},
   "outputs": [
    {
     "name": "stdout",
     "output_type": "stream",
     "text": [
      "(1, 'Fabio', 35, 20000.0, 20000.0)\n"
     ]
    }
   ],
   "source": [
    "dados = cursor.execute('SELECT *, max(saldo) as saldo_max FROM Clientes')\n",
    "for Clientes  in dados:\n",
    "    print(Clientes)"
   ]
  },
  {
   "cell_type": "markdown",
   "metadata": {},
   "source": [
    "#### d - Conte quantos clientes têm saldo acima de 1000."
   ]
  },
  {
   "cell_type": "code",
   "execution_count": 85,
   "metadata": {},
   "outputs": [
    {
     "name": "stdout",
     "output_type": "stream",
     "text": [
      "(6,)\n"
     ]
    }
   ],
   "source": [
    "dados = cursor.execute('SELECT count(Id) FROM Clientes where saldo > 1000')\n",
    "for Clientes  in dados:\n",
    "    print(Clientes)"
   ]
  },
  {
   "cell_type": "markdown",
   "metadata": {},
   "source": [
    "### 7- Atualização e remoção de dados"
   ]
  },
  {
   "cell_type": "code",
   "execution_count": 86,
   "metadata": {},
   "outputs": [
    {
     "name": "stdout",
     "output_type": "stream",
     "text": [
      "(1, 'Fabio', 35, 20000.0)\n",
      "(2, 'Julia', 38, -5000.0)\n",
      "(3, 'Bruna', 35, 1125.8)\n",
      "(4, 'Ricardo', 23, 456.25)\n",
      "(5, 'Macella', 42, -200.52)\n",
      "(6, 'Marcus', 56, 10652.89)\n",
      "(7, 'João', 45, 2548.57)\n",
      "(8, 'Joana', 26, -854.23)\n",
      "(9, 'Fernanda', 35, 2164.4)\n",
      "(10, 'Maria', 38, -5445.21)\n",
      "(11, 'Jean', 35, 565.87)\n",
      "(12, 'Raphaela', 23, 894.45)\n",
      "(13, 'Sophia', 42, -25.0)\n",
      "(14, 'Ezio', 41, 542.51)\n",
      "(15, 'Diego', 32, 5614.85)\n",
      "(16, 'Dete', 75, -26.8)\n"
     ]
    }
   ],
   "source": [
    "dados = cursor.execute('SELECT * FROM Clientes')\n",
    "for Clientes  in dados:\n",
    "    print(Clientes)"
   ]
  },
  {
   "cell_type": "markdown",
   "metadata": {},
   "source": [
    "#### a - Atualize o saldo de um cliente específico."
   ]
  },
  {
   "cell_type": "code",
   "execution_count": 87,
   "metadata": {},
   "outputs": [
    {
     "data": {
      "text/plain": [
       "<sqlite3.Cursor at 0x15726294cc0>"
      ]
     },
     "execution_count": 87,
     "metadata": {},
     "output_type": "execute_result"
    }
   ],
   "source": [
    "cursor.execute('UPDATE Clientes SET saldo = 2054.23 WHERE Id = 10')"
   ]
  },
  {
   "cell_type": "code",
   "execution_count": null,
   "metadata": {},
   "outputs": [],
   "source": [
    "dados = cursor.execute('SELECT * FROM Clientes')\n",
    "for Clientes  in dados:\n",
    "    print(Clientes)"
   ]
  },
  {
   "cell_type": "markdown",
   "metadata": {},
   "source": [
    "#### b - Remova um cliente pelo seu ID."
   ]
  },
  {
   "cell_type": "code",
   "execution_count": 90,
   "metadata": {},
   "outputs": [
    {
     "data": {
      "text/plain": [
       "<sqlite3.Cursor at 0x15726294cc0>"
      ]
     },
     "execution_count": 90,
     "metadata": {},
     "output_type": "execute_result"
    }
   ],
   "source": [
    "cursor.execute('DELETE FROM Clientes WHERE Id = 8')"
   ]
  },
  {
   "cell_type": "code",
   "execution_count": 91,
   "metadata": {},
   "outputs": [
    {
     "name": "stdout",
     "output_type": "stream",
     "text": [
      "(1, 'Fabio', 35, 20000.0)\n",
      "(2, 'Julia', 38, -5000.0)\n",
      "(3, 'Bruna', 35, 1125.8)\n",
      "(4, 'Ricardo', 23, 456.25)\n",
      "(5, 'Macella', 42, -200.52)\n",
      "(6, 'Marcus', 56, 10652.89)\n",
      "(7, 'João', 45, 2548.57)\n",
      "(9, 'Fernanda', 35, 2164.4)\n",
      "(10, 'Maria', 38, 2054.23)\n",
      "(11, 'Jean', 35, 565.87)\n",
      "(12, 'Raphaela', 23, 894.45)\n",
      "(13, 'Sophia', 42, -25.0)\n",
      "(14, 'Ezio', 41, 542.51)\n",
      "(15, 'Diego', 32, 5614.85)\n",
      "(16, 'Dete', 75, -26.8)\n"
     ]
    }
   ],
   "source": [
    "dados = cursor.execute('SELECT * FROM Clientes')\n",
    "for Clientes  in dados:\n",
    "    print(Clientes)"
   ]
  },
  {
   "cell_type": "markdown",
   "metadata": {},
   "source": [
    "### 8- Junção de Tabelas"
   ]
  },
  {
   "cell_type": "code",
   "execution_count": null,
   "metadata": {},
   "outputs": [],
   "source": [
    "cursor.execute('CREATE TABLE compras(id INT, cliente_id , nome VARCHAR(100), idade INT, saldo FLOAT);')\n",
    "cliente_id (chave estrangeira referenciando o id\n",
    "da tabela \"clientes\"), produto (texto) e valor (real)\n",
    "\n",
    "cursor.execute('INSERT INTO compras(id, nome, idade, saldo) VALUES(1,\"Fabio\",35,20000.00)')\n",
    "cursor.execute('INSERT INTO Clientes(id, nome, idade, saldo) VALUES(2,\"Julia\",38,-5000.00)')\n",
    "cursor.execute('INSERT INTO Clientes(id, nome, idade, saldo) VALUES(3,\"Bruna\",35,1125.80)')\n",
    "cursor.execute('INSERT INTO Clientes(id, nome, idade, saldo) VALUES(4,\"Ricardo\",23,456.25)')\n",
    "cursor.execute('INSERT INTO Clientes(id, nome, idade, saldo) VALUES(5,\"Macella\",42,-200.52)')\n",
    "cursor.execute('INSERT INTO Clientes(id, nome, idade, saldo) VALUES(6,\"Marcus\",56,10652.89)')\n",
    "cursor.execute('INSERT INTO Clientes(id, nome, idade, saldo) VALUES(7,\"João\",45,2548.57)')\n",
    "cursor.execute('INSERT INTO Clientes(id, nome, idade, saldo) VALUES(8,\"Joana\",26,-854.23)')\n",
    "cursor.execute('INSERT INTO Clientes(id, nome, idade, saldo) VALUES(9,\"Fernanda\",35,2164.40)')\n",
    "cursor.execute('INSERT INTO Clientes(id, nome, idade, saldo) VALUES(10,\"Maria\",38,-5445.21)')\n",
    "cursor.execute('INSERT INTO Clientes(id, nome, idade, saldo) VALUES(11,\"Jean\",35,565.87)')\n",
    "cursor.execute('INSERT INTO Clientes(id, nome, idade, saldo) VALUES(12,\"Raphaela\",23,894.45)')\n",
    "cursor.execute('INSERT INTO Clientes(id, nome, idade, saldo) VALUES(13,\"Sophia\",42,-25.00)')\n",
    "cursor.execute('INSERT INTO Clientes(id, nome, idade, saldo) VALUES(14,\"Ezio\",41,542.51)')\n",
    "cursor.execute('INSERT INTO Clientes(id, nome, idade, saldo) VALUES(15,\"Diego\",32,5614.85)')\n",
    "cursor.execute('INSERT INTO Clientes(id, nome, idade, saldo) VALUES(16,\"Dete\",75,-26.80)')\n",
    "\n",
    "conexao.commit()\n",
    "conexao.close"
   ]
  }
 ],
 "metadata": {
  "kernelspec": {
   "display_name": "Python 3",
   "language": "python",
   "name": "python3"
  },
  "language_info": {
   "codemirror_mode": {
    "name": "ipython",
    "version": 3
   },
   "file_extension": ".py",
   "mimetype": "text/x-python",
   "name": "python",
   "nbconvert_exporter": "python",
   "pygments_lexer": "ipython3",
   "version": "3.11.2"
  }
 },
 "nbformat": 4,
 "nbformat_minor": 2
}
