{
 "cells": [
  {
   "cell_type": "markdown",
   "metadata": {},
   "source": [
    "### Importando Bibliotecas"
   ]
  },
  {
   "cell_type": "code",
   "execution_count": null,
   "metadata": {},
   "outputs": [],
   "source": [
    "import sqlite3"
   ]
  },
  {
   "cell_type": "markdown",
   "metadata": {},
   "source": [
    "### Fazendo a conexão"
   ]
  },
  {
   "cell_type": "code",
   "execution_count": null,
   "metadata": {},
   "outputs": [],
   "source": [
    "conexao = sqlite3.connect('Banco')\n",
    "cursor = conexao.cursor()"
   ]
  },
  {
   "cell_type": "markdown",
   "metadata": {},
   "source": [
    "### 1- Criando a tabela Alunos"
   ]
  },
  {
   "cell_type": "code",
   "execution_count": null,
   "metadata": {},
   "outputs": [],
   "source": [
    "cursor.execute('CREATE TABLE alunos (Id INT, Nome VARCHAR(100), Idade INT, Curso VARCHAR (100);')"
   ]
  },
  {
   "cell_type": "markdown",
   "metadata": {},
   "source": [
    "### 2-  Inserindo Dados na Tabela"
   ]
  },
  {
   "cell_type": "code",
   "execution_count": null,
   "metadata": {},
   "outputs": [],
   "source": [
    "cursor.execute('INSERT INTO alunos (Id,Nome,Idade,Curso) VALUES(1,\"Renata\",\"16\",\"Inglês\")')\n",
    "cursor.execute('INSERT INTO alunos (Id,Nome,Idade,Curso) VALUES(2,\"Carlos\",\"18\",\"Espanhol\")')\n",
    "cursor.execute('INSERT INTO alunos (Id,Nome,Idade,Curso) VALUES(3,\"Bruna\",\"20\",\"Alemão\")')\n",
    "cursor.execute('INSERT INTO alunos (Id,Nome,Idade,Curso) VALUES(4,\"Roberto\",\"30\",\"Japones\")')\n",
    "cursor.execute('INSERT INTO alunos (Id,Nome,Idade,Curso) VALUES(5,\"Uriel\",\"14\",\"Espanhol\")')\n",
    "cursor.execute('INSERT INTO alunos (Id,Nome,Idade,Curso) VALUES(6,\"Juliana\",\"23\",\"Inglês\")')\n",
    "cursor.execute('INSERT INTO alunos (Id,Nome,Idade,Curso) VALUES(7,\"Claudia\",\"25\",\"Alemão\")')\n",
    "cursor.execute('INSERT INTO alunos (Id,Nome,Idade,Curso) VALUES(8,\"Jaqueline\",\"18\",\"Inglês\")')\n",
    "cursor.execute('INSERT INTO alunos (Id,Nome,Idade,Curso) VALUES(9,\"Beatriz\",\"24\",\"Inglês\")')\n",
    "cursor.execute('INSERT INTO alunos (Id,Nome,Idade,Curso) VALUES(10,\"Luciana\",\"20\",\"Espanhol\")')\n",
    "cursor.execute('INSERT INTO alunos (Id,Nome,Idade,Curso) VALUES(11,\"Juliano\",\"23\",\"Alemão\")')\n",
    "cursor.execute('INSERT INTO alunos (Id,Nome,Idade,Curso) VALUES(12,\"Adriel\",\"18\",\"Espanhol\")')\n",
    "cursor.execute('INSERT INTO alunos (Id,Nome,Idade,Curso) VALUES(13,\"Gustavo\",\"15\",\"Inglês\")')\n",
    "cursor.execute('INSERT INTO alunos (Id,Nome,Idade,Curso) VALUES(14,\"Eduardo\",\"18\",\"Alemão\")')\n",
    "cursor.execute('INSERT INTO alunos (Id,Nome,Idade,Curso) VALUES(15,\"Ariel\",\"32\",\"Japones\")')\n",
    "cursor.execute('INSERT INTO alunos (Id,Nome,Idade,Curso) VALUES(16,\"Marcos\",\"23\",\"Inglês\")')\n",
    "cursor.execute('INSERT INTO alunos (Id,Nome,Idade,Curso) VALUES(17,\"Jean\",\"16\",\"Espanhol\")')\n",
    "cursor.execute('INSERT INTO alunos (Id,Nome,Idade,Curso) VALUES(18,\"Felipe\",\"18\",\"Alemão\")')\n",
    "cursor.execute('INSERT INTO alunos (Id,Nome,Idade,Curso) VALUES(19,\"Raphael\",\"24\",\"Japones\")')\n",
    "cursor.execute('INSERT INTO alunos (Id,Nome,Idade,Curso) VALUES(20,\"Marcio\",\"20\",\"Espanhol\")')\n",
    "\n",
    "conexao.commit()\n",
    "conexao.close"
   ]
  },
  {
   "cell_type": "markdown",
   "metadata": {},
   "source": [
    "### 3- Consultando uma Tabela"
   ]
  },
  {
   "cell_type": "markdown",
   "metadata": {},
   "source": [
    "#### A - Selecionar todos os registros da tabela \"alunos\"."
   ]
  },
  {
   "cell_type": "code",
   "execution_count": null,
   "metadata": {},
   "outputs": [],
   "source": [
    "dados = cursor.execute('SELECT * FROM alunos')\n",
    "for alunos  in dados:\n",
    "    print(alunos)"
   ]
  },
  {
   "cell_type": "markdown",
   "metadata": {},
   "source": [
    "#### B - Selecionar o nome e a idade dos alunos com mais de 20 anos."
   ]
  },
  {
   "cell_type": "code",
   "execution_count": null,
   "metadata": {},
   "outputs": [],
   "source": [
    "dados2 = cursor.execute('SELECT Nome, Idade FROM alunos where Idade > 20')\n",
    "for alunos  in dados2:\n",
    "    print(alunos)"
   ]
  },
  {
   "cell_type": "markdown",
   "metadata": {},
   "source": [
    "#### C - Selecionar os alunos do curso de \"Engenharia\" em ordem alfabética.\n"
   ]
  },
  {
   "cell_type": "code",
   "execution_count": null,
   "metadata": {},
   "outputs": [],
   "source": [
    "dados = cursor.execute('SELECT * FROM alunos')\n",
    "for alunos  in dados:\n",
    "    print(alunos)"
   ]
  },
  {
   "cell_type": "markdown",
   "metadata": {},
   "source": [
    "#### D - Contar o número total de alunos na tabela"
   ]
  },
  {
   "cell_type": "code",
   "execution_count": null,
   "metadata": {},
   "outputs": [],
   "source": [
    "dados = cursor.execute('SELECT count(Id) FROM alunos')\n",
    "for alunos  in dados:\n",
    "    print(alunos)"
   ]
  },
  {
   "cell_type": "markdown",
   "metadata": {},
   "source": []
  }
 ],
 "metadata": {
  "language_info": {
   "name": "python"
  }
 },
 "nbformat": 4,
 "nbformat_minor": 2
}
